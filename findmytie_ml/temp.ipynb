{
 "cells": [
  {
   "cell_type": "code",
   "execution_count": null,
   "metadata": {},
   "outputs": [],
   "source": [
    "import os\n",
    "import matplotlib.pyplot as plt\n",
    "from tqdm import tqdm\n",
    "from rembg import remove, new_session"
   ]
  },
  {
   "cell_type": "code",
   "execution_count": null,
   "metadata": {},
   "outputs": [],
   "source": [
    "session = new_session()"
   ]
  },
  {
   "cell_type": "code",
   "execution_count": null,
   "metadata": {},
   "outputs": [],
   "source": [
    "old_dataset_dir = '/Users/sdale/repos/find_my_tie/dataset_v0'\n",
    "new_dataset_dir = '/Users/sdale/repos/find_my_tie/dataset_v0.1'\n",
    "os.makedirs(new_dataset_dir, exist_ok=True)\n",
    "for old_file in tqdm(os.listdir(old_dataset_dir)):\n",
    "    old_path = os.path.join(old_dataset_dir, old_file)\n",
    "    new_file = old_file.replace('.jpg', '.png')\n",
    "    new_path = os.path.join(new_dataset_dir, new_file)\n",
    "    if os.path.exists(new_path):\n",
    "        continue\n",
    "    with open(old_path, 'rb') as i:\n",
    "        with open(new_path, 'wb') as o:\n",
    "            try:\n",
    "                input = i.read()\n",
    "                output = remove(input, session=session)\n",
    "                o.write(output)\n",
    "            except Exception as e:\n",
    "                print(e)\n",
    "                continue"
   ]
  },
  {
   "cell_type": "code",
   "execution_count": null,
   "metadata": {},
   "outputs": [],
   "source": []
  }
 ],
 "metadata": {
  "kernelspec": {
   "display_name": "venv",
   "language": "python",
   "name": "python3"
  },
  "language_info": {
   "codemirror_mode": {
    "name": "ipython",
    "version": 3
   },
   "file_extension": ".py",
   "mimetype": "text/x-python",
   "name": "python",
   "nbconvert_exporter": "python",
   "pygments_lexer": "ipython3",
   "version": "3.12.4"
  }
 },
 "nbformat": 4,
 "nbformat_minor": 2
}
