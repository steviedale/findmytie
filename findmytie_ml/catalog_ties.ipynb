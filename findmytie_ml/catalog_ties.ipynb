{
 "cells": [
  {
   "cell_type": "code",
   "execution_count": 1,
   "metadata": {},
   "outputs": [],
   "source": [
    "import os\n",
    "import pandas as pd\n",
    "import numpy as np\n",
    "import cv2\n",
    "import matplotlib.pyplot as plt\n",
    "from tqdm import tqdm"
   ]
  },
  {
   "cell_type": "code",
   "execution_count": 2,
   "metadata": {},
   "outputs": [],
   "source": [
    "from color_grabber.color_grabber_v0 import grab_colors\n",
    "from semantic_segmentation.semantic_segmentation_v0 import get_segmentation_mask"
   ]
  },
  {
   "cell_type": "code",
   "execution_count": 3,
   "metadata": {},
   "outputs": [],
   "source": [
    "repo_dir = '/Users/sdale/repos/find_my_tie'\n",
    "# path = 'dataset_v0/71PWXMsBxRL._AC_SX679_.jpg'\n",
    "# path = 'dataset_v0/61ig2XNgwcL._AC_SX679_.jpg'\n",
    "# path = 'dataset_v0/719LoHr9jzL._AC_SX679_.jpg'\n",
    "path = 'dataset_v0/7148bKIKvWL._AC_SY879_.jpg'\n",
    "path = os.path.join(repo_dir, path)\n",
    "assert(os.path.exists(path))\n",
    "img = cv2.imread(path)"
   ]
  },
  {
   "cell_type": "code",
   "execution_count": 5,
   "metadata": {},
   "outputs": [
    {
     "data": {
      "text/plain": [
       "<Figure size 1400x1400 with 0 Axes>"
      ]
     },
     "metadata": {},
     "output_type": "display_data"
    }
   ],
   "source": [
    "plt.figure(figsize=(14, 14))\n",
    "mask = get_segmentation_mask(img)\n",
    "masked_img = cv2.bitwise_and(img, img, mask=mask)\n",
    "plt.imshow(cv2.cvtColor(masked_img, cv2.COLOR_BGR2RGB))"
   ]
  },
  {
   "cell_type": "code",
   "execution_count": null,
   "metadata": {},
   "outputs": [
    {
     "data": {
      "image/png": "[encoded data removed]",
      "text/plain": [
       "<Figure size 1400x700 with 8 Axes>"
      ]
     },
     "metadata": {},
     "output_type": "display_data"
    }
   ],
   "source": [
    "K = 8\n",
    "N = K\n",
    "cols = min(8, N)\n",
    "rows = (N // cols) + 1\n",
    "fig = plt.figure(figsize=(14, 7)) \n",
    "# centroids, weights, center_points = grab_colors(img, K, weights=(5, 100, 100, 1, 1), resize=False, blur=5)\n",
    "centroids, weights, center_points = grab_colors(img, K, weights=(5, 100, 100, 1, 1), resize=False, blur=None)\n",
    "sorted_inx = np.argsort(weights)[::-1]\n",
    "centroids = centroids[sorted_inx[:N]]\n",
    "weights = weights[sorted_inx[:N]]\n",
    "center_points = center_points[sorted_inx[:N]]\n",
    "for i in range(len(weights)):\n",
    "    fig.add_subplot(rows, cols, i+1) \n",
    "    plt.title(f'Color {i} - {weights[i]:.2f}')\n",
    "    lab = [int(x) for x in centroids[i]][:3]\n",
    "    square = np.full((5, 5, 3), lab, dtype=np.uint8)\n",
    "    plt.imshow(cv2.cvtColor(square, cv2.COLOR_LAB2RGB))\n",
    "    plt.axis('off')"
   ]
  },
  {
   "cell_type": "code",
   "execution_count": null,
   "metadata": {},
   "outputs": [
    {
     "name": "stderr",
     "output_type": "stream",
     "text": [
      "100%|██████████| 950/950 [00:17<00:00, 53.75it/s]\n",
      "  7%|▋         | 65/950 [00:33<07:22,  2.00it/s]"
     ]
    }
   ],
   "source": [
    "K = 8\n",
    "dataset_dir = 'dataset_v0.1'\n",
    "paths = [os.path.join(dataset_dir, x) for x in os.listdir(dataset_dir) if '.jpg' in x or '.png' in x]\n",
    "data = {'path': [], 'color_l': [], 'color_a': [], 'color_b': [], 'weight': []}\n",
    "for path in tqdm(paths):\n",
    "    assert(os.path.exists(path))\n",
    "    plt.imread(path)\n",
    "for path in tqdm(paths):\n",
    "    assert(os.path.exists(path))\n",
    "    img = cv2.imread(path)\n",
    "    try:\n",
    "        centroids, weights, center_points = grab_colors(img, K, weights=(5, 100, 100, 1, 1), resize=False, blur=False)\n",
    "    except:\n",
    "        continue\n",
    "    sorted_inx = np.argsort(weights)[::-1]\n",
    "    centroids = centroids[sorted_inx]\n",
    "    weights = weights[sorted_inx]\n",
    "    center_points = center_points[sorted_inx]\n",
    "    for i in range(len(weights)):\n",
    "        lab = [int(x) for x in center_points[i]][:3]\n",
    "        data['path'].append(path)\n",
    "        data['color_l'].append(lab[0])\n",
    "        data['color_a'].append(lab[1])\n",
    "        data['color_b'].append(lab[2])\n",
    "        data['weight'].append(weights[i])"
   ]
  },
  {
   "cell_type": "code",
   "execution_count": 9,
   "metadata": {},
   "outputs": [],
   "source": [
    "df = pd.DataFrame(data)\n",
    "df.to_csv('dataset_v0.1/color_data.csv', index=False)"
   ]
  },
  {
   "cell_type": "code",
   "execution_count": null,
   "metadata": {},
   "outputs": [],
   "source": []
  }
 ],
 "metadata": {
  "kernelspec": {
   "display_name": "venv",
   "language": "python",
   "name": "python3"
  },
  "language_info": {
   "codemirror_mode": {
    "name": "ipython",
    "version": 3
   },
   "file_extension": ".py",
   "mimetype": "text/x-python",
   "name": "python",
   "nbconvert_exporter": "python",
   "pygments_lexer": "ipython3",
   "version": "3.12.4"
  }
 },
 "nbformat": 4,
 "nbformat_minor": 2
}
