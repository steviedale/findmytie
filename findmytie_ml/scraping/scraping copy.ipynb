{
 "cells": [
  {
   "cell_type": "code",
   "execution_count": 11,
   "metadata": {},
   "outputs": [],
   "source": [
    "import requests\n",
    "from bs4 import BeautifulSoup"
   ]
  },
  {
   "cell_type": "code",
   "execution_count": 12,
   "metadata": {},
   "outputs": [
    {
     "data": {
      "text/plain": [
       "2249045"
      ]
     },
     "execution_count": 12,
     "metadata": {},
     "output_type": "execute_result"
    }
   ],
   "source": [
    "# url = 'https://www.amazon.com/Bose-QuietComfort-45-Bluetooth-Canceling-Headphones/dp/B098FKXT8L'\n",
    "# url = 'https://www.amazon.com/Purina-Pro-Plan-Shredded-Chicken/dp/B07116Y581?pd_rd_w=euQth&content-id=amzn1.sym.1c5f8f79-ee2f-4fb3-a1b5-3d8384cdfaf3&pf_rd_p=1c5f8f79-ee2f-4fb3-a1b5-3d8384cdfaf3&pf_rd_r=1NZ9GR7PWN0FHF2RQ42S&pd_rd_wg=PJ1jM&pd_rd_r=55ba92d0-6945-4ec5-b3fe-2b1908e88225&pd_rd_i=B07116Y581&ref_=pd_bap_d_grid_rp_0_1_ec_scp_pd_hp_d_atf_rp_1_i&th=1'\n",
    "# url = 'https://www.amazon.com/dp/B0BBXY8QT6?psc=1&ref=ppx_yo2ov_dt_b_product_details'\n",
    "url = 'https://www.amazon.com/Adulove-Necktie-Classic-Woven-Jacquard/dp/B07BVV8ZNQ/ref=sr_1_1_sspa?dib=eyJ2IjoiMSJ9.Pjptq3TpPKLqLw9n8LLd_gq4szEliZSiuYwG1qviTbdz2veIGPGic50Ge0ZHl_LpNBIsI8yQPT38sQ7d8wMGiug-NqK6cVVxCisoOKRFSTrTe_DKdrVnsadX6WoeoSjvqVIvRMpF5NGEVq30hWZovM--0cvOGp0DZLhFu3HkJa5bkp9ZsdqdUaULvuhwFxu5Si1HEFozJXS2KuuZvWO1CWgxHqawoqHQuxbjDNOES0TBHbrkbj3xcsCkxvfV81GCpPYy4JxdGs9d9CyBkiZ48sydyW7nhMLW9-OxWecEDjE.xzUngVMClB3k3WfDxAZmoolLNgOWzHl9D4NW31sBAjU&dib_tag=se&keywords=tie&qid=1723410691&sr=8-1-spons&sp_csd=d2lkZ2V0TmFtZT1zcF9hdGY&psc=1'\n",
    "# url = 'https://www.amazon.com/DAZI-Necktie-Weddings-Groomsmen-Missions/dp/B07K4RXQTH'\n",
    "response = requests.get(url)\n",
    "# print(response.text)\n",
    "open('amazon.html', 'w').write(response.text)"
   ]
  },
  {
   "cell_type": "code",
   "execution_count": 13,
   "metadata": {},
   "outputs": [
    {
     "data": {
      "text/plain": [
       "200"
      ]
     },
     "execution_count": 13,
     "metadata": {},
     "output_type": "execute_result"
    }
   ],
   "source": [
    "response.status_code"
   ]
  },
  {
   "cell_type": "code",
   "execution_count": 14,
   "metadata": {},
   "outputs": [],
   "source": [
    "soup = BeautifulSoup(response.text, 'lxml')"
   ]
  },
  {
   "cell_type": "code",
   "execution_count": 15,
   "metadata": {},
   "outputs": [
    {
     "data": {
      "text/plain": [
       "\"Adulove Men's Necktie Classic Silk Tie Woven Jacquard Neck Ties 6 PCS\""
      ]
     },
     "execution_count": 15,
     "metadata": {},
     "output_type": "execute_result"
    }
   ],
   "source": [
    "title_element = soup.select_one('#productTitle')\n",
    "title_element.text.strip()"
   ]
  },
  {
   "cell_type": "code",
   "execution_count": 16,
   "metadata": {},
   "outputs": [
    {
     "data": {
      "text/plain": [
       "4.6"
      ]
     },
     "execution_count": 16,
     "metadata": {},
     "output_type": "execute_result"
    }
   ],
   "source": [
    "rating_element = soup.select_one('#acrPopover')\n",
    "rating_text = rating_element.attrs['title']\n",
    "rating = float(rating_text.split()[0])\n",
    "rating"
   ]
  },
  {
   "cell_type": "code",
   "execution_count": 17,
   "metadata": {},
   "outputs": [
    {
     "data": {
      "text/plain": [
       "22.99"
      ]
     },
     "execution_count": 17,
     "metadata": {},
     "output_type": "execute_result"
    }
   ],
   "source": [
    "price_element = soup.select_one('span.a-offscreen')\n",
    "price_element.text\n",
    "price = float(price_element.text[1:])\n",
    "price"
   ]
  },
  {
   "cell_type": "code",
   "execution_count": 18,
   "metadata": {},
   "outputs": [
    {
     "data": {
      "text/plain": [
       "'https://m.media-amazon.com/images/I/71DMG4LXzXL.__AC_SY445_SX342_QL70_ML2_.jpg'"
      ]
     },
     "execution_count": 18,
     "metadata": {},
     "output_type": "execute_result"
    }
   ],
   "source": [
    "image_element = soup.select_one('#landingImage')\n",
    "image = image_element.attrs.get('src')\n",
    "image"
   ]
  },
  {
   "cell_type": "code",
   "execution_count": 19,
   "metadata": {},
   "outputs": [],
   "source": [
    "# https://m.media-amazon.com/images/I/81y0HsJhQdL._AC_SX569_.jpg\n",
    "# https://m.media-amazon.com/images/I/81y0HsJhQdL._AC_SX522_.jpg\n",
    "# https://m.media-amazon.com/images/I/81y0HsJhQdL._AC_SX425_.jpg\n",
    "# https://m.media-amazon.com/images/I/81y0HsJhQdL._AC_SX466_.jpg\n",
    "# https://m.media-amazon.com/images/I/81y0HsJhQdL._AC_SY450_.jpg\n",
    "# https://m.media-amazon.com/images/I/81y0HsJhQdL._AC_SX679_.jpg\n",
    "# https://m.media-amazon.com/images/I/81y0HsJhQdL._AC_SY355_.jpg"
   ]
  },
  {
   "cell_type": "code",
   "execution_count": 20,
   "metadata": {},
   "outputs": [
    {
     "data": {
      "text/plain": [
       "True"
      ]
     },
     "execution_count": 20,
     "metadata": {},
     "output_type": "execute_result"
    }
   ],
   "source": [
    "\"\"\"P.when('A').register(\"ImageBlockATF\", function(A){\"\"\" in response.text"
   ]
  },
  {
   "cell_type": "code",
   "execution_count": 21,
   "metadata": {},
   "outputs": [
    {
     "data": {
      "text/plain": [
       "'\\n                \\'enableS2WithoutS1\\': false,\\n                \\'notShowVideoCount\\': false,\\n                \\'colorImages\\': { \\'initial\\': [{\"hiRes\":\"https://m.media-amazon.com/images/I/71DMG4LXzXL._AC_SL1001_.jpg\",\"thumb\":\"https://m.media-amazon.com/images/I/512wfz-dpYL._AC_SR38,50_.jpg\",\"large\":\"https://m.media-amazon.com/images/I/512wfz-dpYL._AC_.jpg\",\"main\":{\"https://m.media-amazon.com/images/I/71DMG4LXzXL._AC_SX342_.jpg\":[337,342],\"https://m.media-amazon.com/images/I/71DMG4LXzXL._AC_SX385_.jpg\":[379,385],\"https://m.media-amazon.com/images/I/71DMG4LXzXL._AC_SX425_.jpg\":[418,425],\"https://m.media-amazon.com/images/I/71DMG4LXzXL._AC_SX466_.jpg\":[459,466],\"https://m.media-amazon.com/images/I/71DMG4LXzXL._AC_SX522_.jpg\":[514,522],\"https://m.media-amazon.com/images/I/71DMG4LXzXL._AC_SX569_.jpg\":[560,569],\"https://m.media-amazon.com/images/I/71DMG4LXzXL._AC_SX679_.jpg\":[668,679]},\"variant\":\"MAIN\",\"lowRes\":null,\"shoppableScene\":null},{\"hiRes\":\"https://m.media-amazon.com/images/I/61MZYVL9yFL._AC_SL1500_.jpg\",\"thumb\":\"https://m.media-amazon.com/images/I/41x2-wsR17L._AC_SR38,50_.jpg\",\"large\":\"https://m.media-amazon.com/images/I/41x2-wsR17L._AC_.jpg\",\"main\":{\"https://m.media-amazon.com/images/I/61MZYVL9yFL._AC_SX342_.jpg\":[431,342],\"https://m.media-amazon.com/images/I/61MZYVL9yFL._AC_SX385_.jpg\":[485,385],\"https://m.media-amazon.com/images/I/61MZYVL9yFL._AC_SX425_.jpg\":[535,425],\"https://m.media-amazon.com/images/I/61MZYVL9yFL._AC_SX466_.jpg\":[587,466],\"https://m.media-amazon.com/images/I/61MZYVL9yFL._AC_SX522_.jpg\":[658,522],\"https://m.media-amazon.com/images/I/61MZYVL9yFL._AC_SX569_.jpg\":[717,569],\"https://m.media-amazon.com/images/I/61MZYVL9yFL._AC_SX679_.jpg\":[855,679]},\"variant\":\"PT02\",\"lowRes\":null,\"shoppableScene\":null},{\"hiRes\":\"https://m.media-amazon.com/images/I/61fo5T8k2bL._AC_SL1500_.jpg\",\"thumb\":\"https://m.media-amazon.com/images/I/41gTLYn1y6L._AC_SR38,50_.jpg\",\"large\":\"https://m.media-amazon.com/images/I/41gTLYn1y6L._AC_.jpg\",\"main\":{\"https://m.media-amazon.com/images/I/61fo5T8k2bL._AC_SX342_.jpg\":[363,342],\"https://m.media-amazon.com/images/I/61fo5T8k2bL._AC_SX385_.jpg\":[408,385],\"https://m.media-amazon.com/images/I/61fo5T8k2bL._AC_SX425_.jpg\":[451,425],\"https://m.media-amazon.com/images/I/61fo5T8k2bL._AC_SX466_.jpg\":[494,466],\"https://m.media-amazon.com/images/I/61fo5T8k2bL._AC_SX522_.jpg\":[554,522],\"https://m.media-amazon.com/images/I/61fo5T8k2bL._AC_SX569_.jpg\":[604,569],\"https://m.media-amazon.com/images/I/61fo5T8k2bL._AC_SX679_.jpg\":[720,679]},\"variant\":\"PT03\",\"lowRes\":null,\"shoppableScene\":null},{\"hiRes\":\"https://m.media-amazon.com/images/I/81XDzVal4ZL._AC_SL1500_.jpg\",\"thumb\":\"https://m.media-amazon.com/images/I/41YXjSc-v5L._AC_SR38,50_.jpg\",\"large\":\"https://m.media-amazon.com/images/I/41YXjSc-v5L._AC_.jpg\",\"main\":{\"https://m.media-amazon.com/images/I/81XDzVal4ZL._AC_SY445_.jpg\":[445,319],\"https://m.media-amazon.com/images/I/81XDzVal4ZL._AC_SY500_.jpg\":[500,358],\"https://m.media-amazon.com/images/I/81XDzVal4ZL._AC_SY550_.jpg\":[550,394],\"https://m.media-amazon.com/images/I/81XDzVal4ZL._AC_SY606_.jpg\":[606,434],\"https://m.media-amazon.com/images/I/81XDzVal4ZL._AC_SY679_.jpg\":[679,487],\"https://m.media-amazon.com/images/I/81XDzVal4ZL._AC_SY741_.jpg\":[741,531],\"https://m.media-amazon.com/images/I/81XDzVal4ZL._AC_SY879_.jpg\":[879,630]},\"variant\":\"PT04\",\"lowRes\":null,\"shoppableScene\":null},{\"hiRes\":\"https://m.media-amazon.com/images/I/81Goms1hrIL._AC_SL1500_.jpg\",\"thumb\":\"https://m.media-amazon.com/images/I/41ca30fDtSL._AC_SR38,50_.jpg\",\"large\":\"https://m.media-amazon.com/images/I/41ca30fDtSL._AC_.jpg\",\"main\":{\"https://m.media-amazon.com/images/I/81Goms1hrIL._AC_SY445_.jpg\":[445,319],\"https://m.media-amazon.com/images/I/81Goms1hrIL._AC_SY500_.jpg\":[500,358],\"https://m.media-amazon.com/images/I/81Goms1hrIL._AC_SY550_.jpg\":[550,394],\"https://m.media-amazon.com/images/I/81Goms1hrIL._AC_SY606_.jpg\":[606,434],\"https://m.media-amazon.com/images/I/81Goms1hrIL._AC_SY679_.jpg\":[679,487],\"https://m.media-amazon.com/images/I/81Goms1hrIL._AC_SY741_.jpg\":[741,531],\"https://m.media-amazon.com/images/I/81Goms1hrIL._AC_SY879_.jpg\":[879,630]},\"variant\":\"PT05\",\"lowRes\":null,\"shoppableScene\":null},{\"hiRes\":\"https://m.media-amazon.com/images/I/81+I74eaTNL._AC_SL1500_.jpg\",\"thumb\":\"https://m.media-amazon.com/images/I/41GCuJIHGdL._AC_SR38,50_.jpg\",\"large\":\"https://m.media-amazon.com/images/I/41GCuJIHGdL._AC_.jpg\",\"main\":{\"https://m.media-amazon.com/images/I/81+I74eaTNL._AC_SY445_.jpg\":[445,319],\"https://m.media-amazon.com/images/I/81+I74eaTNL._AC_SY500_.jpg\":[500,358],\"https://m.media-amazon.com/images/I/81+I74eaTNL._AC_SY550_.jpg\":[550,394],\"https://m.media-amazon.com/images/I/81+I74eaTNL._AC_SY606_.jpg\":[606,434],\"https://m.media-amazon.com/images/I/81+I74eaTNL._AC_SY679_.jpg\":[679,487],\"https://m.media-amazon.com/images/I/81+I74eaTNL._AC_SY741_.jpg\":[741,531],\"https://m.media-amazon.com/images/I/81+I74eaTNL._AC_SY879_.jpg\":[879,630]},\"variant\":\"PT06\",\"lowRes\":null,\"shoppableScene\":null},{\"hiRes\":\"https://m.media-amazon.com/images/I/61s0LiYyIlL._AC_SL1001_.jpg\",\"thumb\":\"https://m.media-amazon.com/images/I/51y-WiYKBRL._AC_SR38,50_.jpg\",\"large\":\"https://m.media-amazon.com/images/I/51y-WiYKBRL._AC_.jpg\",\"main\":{\"https://m.media-amazon.com/images/I/61s0LiYyIlL._AC_SX342_.jpg\":[342,342],\"https://m.media-amazon.com/images/I/61s0LiYyIlL._AC_SX385_.jpg\":[385,385],\"https://m.media-amazon.com/images/I/61s0LiYyIlL._AC_SX425_.jpg\":[425,425],\"https://m.media-amazon.com/images/I/61s0LiYyIlL._AC_SX466_.jpg\":[466,466],\"https://m.media-amazon.com/images/I/61s0LiYyIlL._AC_SX522_.jpg\":[522,522],\"https://m.media-amazon.com/images/I/61s0LiYyIlL._AC_SX569_.jpg\":[569,569],\"https://m.media-amazon.com/images/I/61s0LiYyIlL._AC_SX679_.jpg\":[679,679]},\"variant\":\"PT07\",\"lowRes\":null,\"shoppableScene\":null},{\"hiRes\":\"https://m.media-amazon.com/images/I/81Al6N7laeL._AC_SL1500_.jpg\",\"thumb\":\"https://m.media-amazon.com/images/I/41NAwAGWebL._AC_SR38,50_.jpg\",\"large\":\"https://m.media-amazon.com/images/I/41NAwAGWebL._AC_.jpg\",\"main\":{\"https://m.media-amazon.com/images/I/81Al6N7laeL._AC_SY445_.jpg\":[445,300],\"https://m.media-amazon.com/images/I/81Al6N7laeL._AC_SY500_.jpg\":[500,337],\"https://m.media-amazon.com/images/I/81Al6N7laeL._AC_SY550_.jpg\":[550,371],\"https://m.media-amazon.com/images/I/81Al6N7laeL._AC_SY606_.jpg\":[606,409],\"https://m.media-amazon.com/images/I/81Al6N7laeL._AC_SY679_.jpg\":[679,458],\"https://m.media-amazon.com/images/I/81Al6N7laeL._AC_SY741_.jpg\":[741,500],\"https://m.media-amazon.com/images/I/81Al6N7laeL._AC_SY879_.jpg\":[879,593]},\"variant\":\"PT08\",\"lowRes\":null,\"shoppableScene\":null}]},\\n                \\'colorToAsin\\': {\\'initial\\': {}},\\n                \\'holderRatio\\': 0.77,\\n                \\'holderMaxHeight\\': 700,\\n                \\'heroImage\\': {\\'initial\\': []},\\n                \\'heroVideo\\': {\\'initial\\': []},\\n                \\'spin360ColorData\\': {\\'initial\\': {}},\\n                \\'spin360ColorEnabled\\': {\\'initial\\': 0},\\n                \\'spin360ConfigEnabled\\': false,\\n                \\'spin360LazyLoadEnabled\\': false,\\n                \\'showroomEnabled\\': false,\\n                \\'asinShowroomEnabled\\' : false,\\n                \\'showroomViewModel\\': {\\'initial\\': {}},\\n                \\'dimensionIngressEnabled\\' : false,\\n                \\'dimensionIngressThumbURL\\' : {\\'initial\\': \\'\\'},\\n                \\'dimensionIngressAtfData\\' : {\\'initial\\': {}},\\n                \\'playVideoInImmersiveView\\':false,\\n                \\'useTabbedImmersiveView\\':false,\\n                \\'totalVideoCount\\':\\'0\\',\\n                \\'videoIngressATFSlateThumbURL\\':\\'\\',\\n                \\'mediaTypeCount\\':\\'0\\',\\n                \\'atfEnhancedHoverOverlay\\' : true,\\n                \\'winningAsin\\': \\'\\',\\n                \\'weblabs\\' : {},\\n                \\'aibExp3Layout\\' : 2,\\n                \\'aibRuleName\\' : \\'frank-powered\\',\\n                \\'acEnabled\\' : true,\\n                \\'dp60VideoPosition\\': 0,\\n                \\'dp60VariantList\\': \\'\\',\\n                \\'dp60VideoThumb\\': \\'\\',\\n                \\'dp60MainImage\\': \\'https://m.media-amazon.com/images/I/71DMG4LXzXL._AC_SX342_.jpg\\',\\n                \\'imageBlockRenderingStartTime\\': Date.now(),\\n                \\'additionalNumberOfImageAlts\\': 0,\\n                \\'shoppableSceneWeblabEnabled\\': false,\\n                \\'unrolledImageBlockTreatment\\': 0,\\n                \\'additionalNumberOfImageAlts\\': 0,\\n                \\'inlineZoomExperimentTreatment\\': 0,\\n                \\'interactiveCallJSPEnabled\\': false,\\n                \\'unrolledImageBlockLazyLoadEnabled\\': false,\\n                \\'collapsibleThumbnails\\': false,\\n                \\'dp60InLastPositionUnrolledImageBlock\\': true,\\n                \\'tableOfContentsIconImage\\': \\'https://m.media-amazon.com/images/G/01/books-detail-page-table-of-contents/blackback/ToC.png\\',\\n                \\n                \\'airyConfig\\' :A.$.parseJSON(\\'{\"jsUrl\":\"https://m.media-amazon.com/images/G/01/vap/video/airy2/prod/2.0.1460.0/js/airy.skin._CB485981857_.js\",\"cssUrl\":\"https://m.media-amazon.com/images/G/01/vap/video/airy2/prod/2.0.1460.0/css/beacon._CB485971591_.css\",\"swfUrl\":\"https://m.media-amazon.com/images/G/01/vap/video/airy2/prod/2.0.1460.0/flash/AiryBasicRenderer._CB485925577_.swf\",\"foresterMetadataParams\":{\"marketplaceId\":\"ATVPDKIKX0DER\",\"method\":\"Apparel.ImageBlock\",\"requestId\":\"TJDB363DY63WK4YDAJT8\",\"session\":\"000-0000000-8675309\",\"client\":\"Dpx\"}}\\')\\n                \\n'"
      ]
     },
     "execution_count": 21,
     "metadata": {},
     "output_type": "execute_result"
    }
   ],
   "source": [
    "start_text = \"\"\"P.when('A').register(\"ImageBlockATF\", function(A){\n",
    "    var data = {\"\"\"\n",
    "end_text = \"\"\"                };\n",
    "    A.trigger('P.AboveTheFold'); // trigger ATF event.\n",
    "    return data;\n",
    "});\n",
    "</script>\"\"\"\n",
    "text_body = response.text[response.text.find(start_text) + len(start_text):]\n",
    "text_body = text_body[:text_body.find(end_text)]\n",
    "text_body"
   ]
  },
  {
   "cell_type": "code",
   "execution_count": 22,
   "metadata": {},
   "outputs": [],
   "source": [
    "lines = [line.strip() for line in text_body.split('\\n') if line.strip()]\n",
    "lines = [line for line in lines if 'colorImages' in line]\n",
    "assert(len(lines) == 1)\n",
    "text = lines[0]\n",
    "# extract all the image urls\n",
    "image_urls = []\n",
    "for line in text.split('['):\n",
    "    if 'https' in line:\n",
    "        image_url = line.split('\"')[1]\n",
    "        if 'https' in image_url:\n",
    "            image_urls.append(image_url)\n",
    "            assert('https://m.media-amazon.com/images/I/' in image_url)"
   ]
  },
  {
   "cell_type": "code",
   "execution_count": 23,
   "metadata": {},
   "outputs": [],
   "source": [
    "#  'https://m.media-amazon.com/images/I/81on2nFDWjL._AC_SY450_.jpg',\n",
    "#  'https://m.media-amazon.com/images/I/81on2nFDWjL._AC_SX425_.jpg',\n",
    "#  'https://m.media-amazon.com/images/I/81on2nFDWjL._AC_SX466_.jpg',\n",
    "#  'https://m.media-amazon.com/images/I/81on2nFDWjL._AC_SX522_.jpg',\n",
    "#  'https://m.media-amazon.com/images/I/81on2nFDWjL._AC_SX569_.jpg',\n",
    "#  'https://m.media-amazon.com/images/I/81on2nFDWjL._AC_SX679_.jpg',"
   ]
  },
  {
   "cell_type": "code",
   "execution_count": 24,
   "metadata": {},
   "outputs": [
    {
     "name": "stdout",
     "output_type": "stream",
     "text": [
      "71DMG4LXzXL\n",
      "('SX', '385')\n",
      "71DMG4LXzXL\n",
      "('SX', '425')\n",
      "71DMG4LXzXL\n",
      "('SX', '466')\n",
      "71DMG4LXzXL\n",
      "('SX', '522')\n",
      "71DMG4LXzXL\n",
      "('SX', '569')\n",
      "71DMG4LXzXL\n",
      "('SX', '679')\n",
      "61MZYVL9yFL\n",
      "('SX', '385')\n",
      "61MZYVL9yFL\n",
      "('SX', '425')\n",
      "61MZYVL9yFL\n",
      "('SX', '466')\n",
      "61MZYVL9yFL\n",
      "('SX', '522')\n",
      "61MZYVL9yFL\n",
      "('SX', '569')\n",
      "61MZYVL9yFL\n",
      "('SX', '679')\n",
      "61fo5T8k2bL\n",
      "('SX', '385')\n",
      "61fo5T8k2bL\n",
      "('SX', '425')\n",
      "61fo5T8k2bL\n",
      "('SX', '466')\n",
      "61fo5T8k2bL\n",
      "('SX', '522')\n",
      "61fo5T8k2bL\n",
      "('SX', '569')\n",
      "61fo5T8k2bL\n",
      "('SX', '679')\n",
      "81XDzVal4ZL\n",
      "('SY', '500')\n",
      "81XDzVal4ZL\n",
      "('SY', '550')\n",
      "81XDzVal4ZL\n",
      "('SY', '606')\n",
      "81XDzVal4ZL\n",
      "('SY', '679')\n",
      "81XDzVal4ZL\n",
      "('SY', '741')\n",
      "81XDzVal4ZL\n",
      "('SY', '879')\n",
      "81Goms1hrIL\n",
      "('SY', '500')\n",
      "81Goms1hrIL\n",
      "('SY', '550')\n",
      "81Goms1hrIL\n",
      "('SY', '606')\n",
      "81Goms1hrIL\n",
      "('SY', '679')\n",
      "81Goms1hrIL\n",
      "('SY', '741')\n",
      "81Goms1hrIL\n",
      "('SY', '879')\n",
      "81+I74eaTNL\n",
      "('SY', '500')\n",
      "81+I74eaTNL\n",
      "('SY', '550')\n",
      "81+I74eaTNL\n",
      "('SY', '606')\n",
      "81+I74eaTNL\n",
      "('SY', '679')\n",
      "81+I74eaTNL\n",
      "('SY', '741')\n",
      "81+I74eaTNL\n",
      "('SY', '879')\n",
      "61s0LiYyIlL\n",
      "('SX', '385')\n",
      "61s0LiYyIlL\n",
      "('SX', '425')\n",
      "61s0LiYyIlL\n",
      "('SX', '466')\n",
      "61s0LiYyIlL\n",
      "('SX', '522')\n",
      "61s0LiYyIlL\n",
      "('SX', '569')\n",
      "61s0LiYyIlL\n",
      "('SX', '679')\n",
      "81Al6N7laeL\n",
      "('SY', '500')\n",
      "81Al6N7laeL\n",
      "('SY', '550')\n",
      "81Al6N7laeL\n",
      "('SY', '606')\n",
      "81Al6N7laeL\n",
      "('SY', '679')\n",
      "81Al6N7laeL\n",
      "('SY', '741')\n",
      "81Al6N7laeL\n",
      "('SY', '879')\n"
     ]
    }
   ],
   "source": [
    "def get_base(url):\n",
    "    t0 = 'https://m.media-amazon.com/images/I/'\n",
    "    assert(t0 in url)\n",
    "    base = url.replace(t0, '')\n",
    "    base = base[:base.find('.')]\n",
    "    return base\n",
    "\n",
    "def get_size(url):\n",
    "    t0 = 'https://m.media-amazon.com/images/I/'\n",
    "    assert(t0 in url)\n",
    "    base = url.replace(t0, '')\n",
    "    size = base[base.find('.'):]\n",
    "    assert('_AC_' in size)\n",
    "    size = size[size.find('_AC_') + len('_AC_'):]\n",
    "    assert(size[:2] in ['SX', 'SY'])\n",
    "    xy = size[:2]\n",
    "    size = size[2:]\n",
    "    size = size[:size.find('_')]\n",
    "    return xy, size\n",
    "\n",
    "for url in image_urls:\n",
    "    print(get_base(url))\n",
    "    print(get_size(url))"
   ]
  },
  {
   "cell_type": "code",
   "execution_count": 73,
   "metadata": {},
   "outputs": [
    {
     "data": {
      "text/plain": [
       "2249045"
      ]
     },
     "execution_count": 73,
     "metadata": {},
     "output_type": "execute_result"
    }
   ],
   "source": [
    "url = 'https://www.amazon.com/Adulove-Necktie-Classic-Woven-Jacquard/dp/B07BVV8ZNQ/ref=sr_1_1_sspa?dib=eyJ2IjoiMSJ9.Pjptq3TpPKLqLw9n8LLd_gq4szEliZSiuYwG1qviTbdz2veIGPGic50Ge0ZHl_LpNBIsI8yQPT38sQ7d8wMGiug-NqK6cVVxCisoOKRFSTrTe_DKdrVnsadX6WoeoSjvqVIvRMpF5NGEVq30hWZovM--0cvOGp0DZLhFu3HkJa5bkp9ZsdqdUaULvuhwFxu5Si1HEFozJXS2KuuZvWO1CWgxHqawoqHQuxbjDNOES0TBHbrkbj3xcsCkxvfV81GCpPYy4JxdGs9d9CyBkiZ48sydyW7nhMLW9-OxWecEDjE.xzUngVMClB3k3WfDxAZmoolLNgOWzHl9D4NW31sBAjU&dib_tag=se&keywords=tie&qid=1723410691&sr=8-1-spons&sp_csd=d2lkZ2V0TmFtZT1zcF9hdGY&psc=1'\n",
    "# url = 'https://www.amazon.com/DAZI-Necktie-Weddings-Groomsmen-Missions/dp/B07K4RXQTH'\n",
    "# url = 'https://www.amazon.com/dp/B0763Z3WSH'\n",
    "# url = 'https://www.amazon.com/Mantieqingway-Cotton-Floral-Printed-Skinny/dp/B096X9CKC9'\n",
    "# url = 'https://www.amazon.com/dp/B0C7VBRG8W'\n",
    "response = requests.get(url)\n",
    "open('parse_fail.html', 'w').write(response.text)"
   ]
  },
  {
   "cell_type": "code",
   "execution_count": 74,
   "metadata": {},
   "outputs": [
    {
     "data": {
      "text/plain": [
       "<Response [200]>"
      ]
     },
     "execution_count": 74,
     "metadata": {},
     "output_type": "execute_result"
    }
   ],
   "source": [
    "response"
   ]
  },
  {
   "cell_type": "code",
   "execution_count": 75,
   "metadata": {},
   "outputs": [
    {
     "data": {
      "text/plain": [
       "False"
      ]
     },
     "execution_count": 75,
     "metadata": {},
     "output_type": "execute_result"
    }
   ],
   "source": [
    "'parseJSON' in url"
   ]
  },
  {
   "cell_type": "code",
   "execution_count": 66,
   "metadata": {},
   "outputs": [
    {
     "ename": "AssertionError",
     "evalue": "",
     "output_type": "error",
     "traceback": [
      "\u001b[0;31m---------------------------------------------------------------------------\u001b[0m",
      "\u001b[0;31mAssertionError\u001b[0m                            Traceback (most recent call last)",
      "\u001b[1;32m/Users/sdale/repos/find_my_tie/scraping copy.ipynb Cell 17\u001b[0m line \u001b[0;36m3\n\u001b[1;32m      <a href='vscode-notebook-cell:/Users/sdale/repos/find_my_tie/scraping%20copy.ipynb#X20sZmlsZQ%3D%3D?line=0'>1</a>\u001b[0m text \u001b[39m=\u001b[39m response\u001b[39m.\u001b[39mtext\n\u001b[1;32m      <a href='vscode-notebook-cell:/Users/sdale/repos/find_my_tie/scraping%20copy.ipynb#X20sZmlsZQ%3D%3D?line=1'>2</a>\u001b[0m sub_str \u001b[39m=\u001b[39m \u001b[39m'\u001b[39m\u001b[39mvar obj = jQuery.parseJSON(\u001b[39m\u001b[39m\\'\u001b[39;00m\u001b[39m'\u001b[39m\n\u001b[0;32m----> <a href='vscode-notebook-cell:/Users/sdale/repos/find_my_tie/scraping%20copy.ipynb#X20sZmlsZQ%3D%3D?line=2'>3</a>\u001b[0m \u001b[39massert\u001b[39;00m(sub_str \u001b[39min\u001b[39;00m text)\n\u001b[1;32m      <a href='vscode-notebook-cell:/Users/sdale/repos/find_my_tie/scraping%20copy.ipynb#X20sZmlsZQ%3D%3D?line=3'>4</a>\u001b[0m text \u001b[39m=\u001b[39m text[text\u001b[39m.\u001b[39mfind(sub_str) \u001b[39m+\u001b[39m \u001b[39mlen\u001b[39m(sub_str):]\n\u001b[1;32m      <a href='vscode-notebook-cell:/Users/sdale/repos/find_my_tie/scraping%20copy.ipynb#X20sZmlsZQ%3D%3D?line=4'>5</a>\u001b[0m text \u001b[39m=\u001b[39m text[:text\u001b[39m.\u001b[39mfind(\u001b[39m'\u001b[39m\u001b[39m\\'\u001b[39;00m\u001b[39m)\u001b[39m\u001b[39m'\u001b[39m)]\n",
      "\u001b[0;31mAssertionError\u001b[0m: "
     ]
    }
   ],
   "source": [
    "text = response.text\n",
    "sub_str = 'var obj = jQuery.parseJSON(\\''\n",
    "assert(sub_str in text)\n",
    "text = text[text.find(sub_str) + len(sub_str):]\n",
    "text = text[:text.find('\\')')]\n",
    "import json\n",
    "data = json.loads(text)\n",
    "data = data['colorImages']"
   ]
  },
  {
   "cell_type": "code",
   "execution_count": 56,
   "metadata": {},
   "outputs": [
    {
     "data": {
      "text/plain": [
       "(76,\n",
       " dict_keys(['05 - Small Flower', 'Pastel Green', '47', 'N-24', 'N-25', '04 Pink Floral', 'Navy Blue Black Camellia', 'Orange', 'N-020', '02-bean Paste Pink', '03-green White Floral', 'N-30', 'N-31', 'Royal Blue', 'N-32', '7-1', 'N-33', 'Orange Green', 'N-17', '01-white Floral', '13', 'A13', 'N-19', '01-pink Floral', '01-blue Florals', 'N-15', 'Navy Garden', '02-pink Floral', '03-pink Floral', 'Cowboy', '05 - Navy Flower', '05 - White Grey Flower', '25-1', 'N-010', 'N-011', '02-white Florals', '3', 'Pink', 'N-014', 'Yellow', 'N-20', '03-light Wine Red Floral', '925', '05 - Blue Flower', 'N-07', 'N-08', '01-navy Floral', 'N-02', '03-navy Blue Floral', '29', 'Orange Floral', '02-rust Floral', '32-1', '35-n', '30-1', '03-beige Pink Floral', '8-1', 'Yellow Rose', '37-n', '02-colored Floral', '02-black Pink Floral', 'N-38', 'Blue', 'N-35', '05 - Yellow Flower', 'N-36', 'N-37', '01-bean Paste Pink', 'Pink White', 'Star Flower', '24-1', 'Ld004-065', 'White', '05 - White Flower', 'Mixed Color Small Flower', 'Green']))"
      ]
     },
     "execution_count": 56,
     "metadata": {},
     "output_type": "execute_result"
    }
   ],
   "source": [
    "len(data.keys()), data.keys()"
   ]
  },
  {
   "cell_type": "code",
   "execution_count": 63,
   "metadata": {},
   "outputs": [
    {
     "name": "stdout",
     "output_type": "stream",
     "text": [
      "05 - Small Flower\n"
     ]
    },
    {
     "data": {
      "text/plain": [
       "{'large': 'https://m.media-amazon.com/images/I/41brgm7dYPL._AC_.jpg',\n",
       " 'thumb': 'https://m.media-amazon.com/images/I/41brgm7dYPL._AC_SR38,50_.jpg',\n",
       " 'hiRes': 'https://m.media-amazon.com/images/I/71FO9iSMeZL._AC_SL1500_.jpg',\n",
       " 'variant': 'MAIN',\n",
       " 'main': {'https://m.media-amazon.com/images/I/71FO9iSMeZL._AC_SX425_.jpg': ['425',\n",
       "   '425'],\n",
       "  'https://m.media-amazon.com/images/I/71FO9iSMeZL._AC_SX522_.jpg': ['522',\n",
       "   '522'],\n",
       "  'https://m.media-amazon.com/images/I/71FO9iSMeZL._AC_SX569_.jpg': ['569',\n",
       "   '569'],\n",
       "  'https://m.media-amazon.com/images/I/71FO9iSMeZL._AC_SX385_.jpg': ['385',\n",
       "   '385'],\n",
       "  'https://m.media-amazon.com/images/I/71FO9iSMeZL._AC_SX679_.jpg': ['679',\n",
       "   '679'],\n",
       "  'https://m.media-amazon.com/images/I/71FO9iSMeZL._AC_SX342_.jpg': ['342',\n",
       "   '342'],\n",
       "  'https://m.media-amazon.com/images/I/71FO9iSMeZL._AC_SX466_.jpg': ['466',\n",
       "   '466']}}"
      ]
     },
     "execution_count": 63,
     "metadata": {},
     "output_type": "execute_result"
    }
   ],
   "source": [
    "key = list(data.keys())[0]\n",
    "print(key)\n",
    "data[key][0]"
   ]
  },
  {
   "cell_type": "code",
   "execution_count": null,
   "metadata": {},
   "outputs": [],
   "source": []
  }
 ],
 "metadata": {
  "kernelspec": {
   "display_name": "venv",
   "language": "python",
   "name": "python3"
  },
  "language_info": {
   "codemirror_mode": {
    "name": "ipython",
    "version": 3
   },
   "file_extension": ".py",
   "mimetype": "text/x-python",
   "name": "python",
   "nbconvert_exporter": "python",
   "pygments_lexer": "ipython3",
   "version": "3.12.4"
  }
 },
 "nbformat": 4,
 "nbformat_minor": 2
}
