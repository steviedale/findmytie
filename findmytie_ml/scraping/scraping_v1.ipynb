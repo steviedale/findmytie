{
 "cells": [
  {
   "cell_type": "code",
   "execution_count": 1,
   "metadata": {},
   "outputs": [],
   "source": [
    "import requests\n",
    "from bs4 import BeautifulSoup\n",
    "import pandas as pd"
   ]
  },
  {
   "cell_type": "code",
   "execution_count": 15,
   "metadata": {},
   "outputs": [],
   "source": [
    "def get_data(url):\n",
    "    data = {'main_url': [], 'title': [], 'rating': [], 'price': [], 'main_image_url': [], 'other_image_urls': []}\n",
    "    data['main_url'].append(url)\n",
    "\n",
    "    response = requests.get(url)\n",
    "    if response.status_code != 200:\n",
    "        raise Exception('Failed to load page')\n",
    "    soup = BeautifulSoup(response.text, 'lxml')\n",
    "\n",
    "    # get title\n",
    "    title_element = soup.select_one('#productTitle')\n",
    "    title = title_element.text.strip()\n",
    "    data['title'].append(title)\n",
    "\n",
    "    # get rating\n",
    "    rating_element = soup.select_one('#acrPopover')\n",
    "    rating_text = rating_element.attrs['title']\n",
    "    rating = float(rating_text.split()[0])\n",
    "    data['rating'].append(rating)\n",
    "\n",
    "    # get price\n",
    "    price_element = soup.select_one('span.a-offscreen')\n",
    "    price_element.text\n",
    "    price = float(price_element.text[1:])\n",
    "    data['price'].append(price)\n",
    "\n",
    "    # get main image\n",
    "    image_element = soup.select_one('#landingImage')\n",
    "    main_image = image_element.attrs.get('src')\n",
    "    data['main_image_url'].append(main_image)\n",
    "\n",
    "    # get the rest of the images\n",
    "    text = response.text.replace('\\t', '').replace(' ', '')\n",
    "    start_text = \"\"\"P.when('A').register(\"ImageBlockATF\",function(A){\\nvardata={\"\"\"\n",
    "    end_text = \"\"\"};\\nA.trigger('P.AboveTheFold');//triggerATFevent.\\nreturndata;\\n});\\n</script>\"\"\"\n",
    "    assert(start_text in text)\n",
    "    assert(end_text in text)\n",
    "    text_body = text[text.find(start_text) + len(start_text):]\n",
    "    text_body = text_body[:text_body.find(end_text)]\n",
    "\n",
    "    lines = [line.strip() for line in text_body.split('\\n') if line.strip()]\n",
    "    lines = [line for line in lines if 'colorImages' in line]\n",
    "    assert(len(lines) == 1)\n",
    "    text = lines[0]\n",
    "    # extract all the image urls\n",
    "    image_urls = []\n",
    "    for line in text.split('['):\n",
    "        if 'https' in line:\n",
    "            image_url = line.split('\"')[1]\n",
    "            if 'https' in image_url:\n",
    "                image_urls.append(image_url)\n",
    "                assert('https://m.media-amazon.com/images/I/' in image_url)\n",
    "\n",
    "    other_image_urls = []\n",
    "    bases = set([get_base(url) for url in image_urls])\n",
    "    for base in bases:\n",
    "        max_size = 0\n",
    "        max_size_url = None\n",
    "        for url in [x for x in image_urls if get_base(x) == base]:\n",
    "            size = int(get_size(url)[1])\n",
    "            if size > max_size:\n",
    "                max_size = size\n",
    "                max_size_url = url\n",
    "        other_image_urls.append(max_size_url)\n",
    "    data['other_image_urls'].append(other_image_urls)\n",
    "    return pd.DataFrame(data)"
   ]
  },
  {
   "cell_type": "code",
   "execution_count": 33,
   "metadata": {},
   "outputs": [],
   "source": [
    "### Not Ties\n",
    "# url = 'https://www.amazon.com/Bose-QuietComfort-45-Bluetooth-Canceling-Headphones/dp/B098FKXT8L'\n",
    "# url = 'https://www.amazon.com/Purina-Pro-Plan-Shredded-Chicken/dp/B07116Y581?pd_rd_w=euQth&content-id=amzn1.sym.1c5f8f79-ee2f-4fb3-a1b5-3d8384cdfaf3&pf_rd_p=1c5f8f79-ee2f-4fb3-a1b5-3d8384cdfaf3&pf_rd_r=1NZ9GR7PWN0FHF2RQ42S&pd_rd_wg=PJ1jM&pd_rd_r=55ba92d0-6945-4ec5-b3fe-2b1908e88225&pd_rd_i=B07116Y581&ref_=pd_bap_d_grid_rp_0_1_ec_scp_pd_hp_d_atf_rp_1_i&th=1'\n",
    "# url = 'https://www.amazon.com/dp/B0BBXY8QT6?psc=1&ref=ppx_yo2ov_dt_b_product_details'\n",
    "\n",
    "# Ties\n",
    "# url = 'https://www.amazon.com/Adulove-Necktie-Classic-Woven-Jacquard/dp/B07BVV8ZNQ'\n",
    "url = 'https://www.amazon.com/DAZI-Necktie-Weddings-Groomsmen-Missions/dp/B07K4RXQTH'\n",
    "df = get_data(url)"
   ]
  },
  {
   "cell_type": "code",
   "execution_count": 34,
   "metadata": {},
   "outputs": [],
   "source": [
    "name = url.split('/')[-1]\n",
    "df_path = f'dataset_v0/dataframes/{name}.csv'\n",
    "df.to_csv(df_path, index=False)"
   ]
  },
  {
   "cell_type": "code",
   "execution_count": 35,
   "metadata": {},
   "outputs": [],
   "source": [
    "df = pd.read_csv(df_path)\n",
    "x = df.iloc[0]['other_image_urls']"
   ]
  },
  {
   "cell_type": "code",
   "execution_count": 36,
   "metadata": {},
   "outputs": [
    {
     "data": {
      "text/plain": [
       "'https://m.media-amazon.com/images/I/61vqpouz9fL._AC_SY879_.jpg'"
      ]
     },
     "execution_count": 36,
     "metadata": {},
     "output_type": "execute_result"
    }
   ],
   "source": [
    "eval(x)[0]"
   ]
  },
  {
   "cell_type": "code",
   "execution_count": null,
   "metadata": {},
   "outputs": [],
   "source": []
  }
 ],
 "metadata": {
  "kernelspec": {
   "display_name": "venv",
   "language": "python",
   "name": "python3"
  },
  "language_info": {
   "codemirror_mode": {
    "name": "ipython",
    "version": 3
   },
   "file_extension": ".py",
   "mimetype": "text/x-python",
   "name": "python",
   "nbconvert_exporter": "python",
   "pygments_lexer": "ipython3",
   "version": "3.12.2"
  }
 },
 "nbformat": 4,
 "nbformat_minor": 2
}
