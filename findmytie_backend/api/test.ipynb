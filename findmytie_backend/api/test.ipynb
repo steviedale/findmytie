{
 "cells": [
  {
   "cell_type": "code",
   "execution_count": 20,
   "metadata": {},
   "outputs": [
    {
     "name": "stdout",
     "output_type": "stream",
     "text": [
      "4.10.0\n",
      "2.1.3\n"
     ]
    }
   ],
   "source": [
    "import cv2\n",
    "import numpy as np\n",
    "print(cv2.__version__)\n",
    "print(np.__version__)"
   ]
  },
  {
   "cell_type": "code",
   "execution_count": 21,
   "metadata": {},
   "outputs": [],
   "source": [
    "s = '[\"#00ff00\", \"#ff0000\"]'"
   ]
  },
  {
   "cell_type": "code",
   "execution_count": 22,
   "metadata": {},
   "outputs": [
    {
     "data": {
      "text/plain": [
       "['#00ff00', '#ff0000']"
      ]
     },
     "execution_count": 22,
     "metadata": {},
     "output_type": "execute_result"
    }
   ],
   "source": [
    "s = eval(s)\n",
    "s"
   ]
  },
  {
   "cell_type": "code",
   "execution_count": 23,
   "metadata": {},
   "outputs": [
    {
     "data": {
      "text/plain": [
       "'#00ff00'"
      ]
     },
     "execution_count": 23,
     "metadata": {},
     "output_type": "execute_result"
    }
   ],
   "source": [
    "c = s[0]\n",
    "c"
   ]
  },
  {
   "cell_type": "code",
   "execution_count": 24,
   "metadata": {},
   "outputs": [
    {
     "data": {
      "text/plain": [
       "(0, 255, 0)"
      ]
     },
     "execution_count": 24,
     "metadata": {},
     "output_type": "execute_result"
    }
   ],
   "source": [
    "# rgb from hex\n",
    "rbg = tuple(int(c[i:i+2], 16) for i in (1, 3, 5))\n",
    "rbg"
   ]
  },
  {
   "cell_type": "code",
   "execution_count": 25,
   "metadata": {},
   "outputs": [
    {
     "name": "stdout",
     "output_type": "stream",
     "text": [
      "(1, 2, 3)\n",
      "[array([[[224,  42, 211],\n",
      "        [136, 208, 195]]], dtype=uint8)]\n",
      "[[[  0 255   0]\n",
      "  [255   0   0]]]\n"
     ]
    }
   ],
   "source": [
    "colors_str = '[\"#00ff00\", \"#ff0000\"]'\n",
    "colors = eval(colors_str)\n",
    "rgb_colors = [tuple(int(c[i:i+2], 16) for i in (1, 3, 5)) for c in colors]\n",
    "# rgb_colors = np.array([rgb_colors], np.float32)\n",
    "rgb_colors = np.array([rgb_colors], np.uint8)\n",
    "# rgb_colors = np.float32(rgb_colors)\n",
    "print(rgb_colors.shape)\n",
    "lab_colors = [cv2.cvtColor(rgb_colors, cv2.COLOR_RGB2LAB) for rgb in rgb_colors]\n",
    "print(lab_colors)\n",
    "print(rgb_colors)"
   ]
  },
  {
   "cell_type": "code",
   "execution_count": null,
   "metadata": {},
   "outputs": [],
   "source": [
    "np.uint8([[centroids[i]]])"
   ]
  }
 ],
 "metadata": {
  "kernelspec": {
   "display_name": "venv",
   "language": "python",
   "name": "python3"
  },
  "language_info": {
   "codemirror_mode": {
    "name": "ipython",
    "version": 3
   },
   "file_extension": ".py",
   "mimetype": "text/x-python",
   "name": "python",
   "nbconvert_exporter": "python",
   "pygments_lexer": "ipython3",
   "version": "3.12.4"
  }
 },
 "nbformat": 4,
 "nbformat_minor": 2
}
