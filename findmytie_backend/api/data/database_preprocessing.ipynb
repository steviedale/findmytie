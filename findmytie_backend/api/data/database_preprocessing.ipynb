{
 "cells": [
  {
   "cell_type": "code",
   "execution_count": 45,
   "metadata": {},
   "outputs": [],
   "source": [
    "import pandas as pd\n",
    "import sqlite3\n",
    "import datetime\n",
    "import os"
   ]
  },
  {
   "cell_type": "code",
   "execution_count": 48,
   "metadata": {},
   "outputs": [
    {
     "data": {
      "text/plain": [
       "['scraping',\n",
       " 'catelog_ties',\n",
       " '.DS_Store',\n",
       " 'catalog_ties.ipynb',\n",
       " 'requirements.txt',\n",
       " 'dataset_v0',\n",
       " 'scalable_instructions.txt',\n",
       " 'create_tree.ipynb',\n",
       " 'temp.ipynb',\n",
       " '.gitignore',\n",
       " 'output.png',\n",
       " 'dataset_v0.1',\n",
       " 'color_grabber',\n",
       " 'venv',\n",
       " 'color_grabber_nn',\n",
       " '.git',\n",
       " 'semantic_segmentation']"
      ]
     },
     "execution_count": 48,
     "metadata": {},
     "output_type": "execute_result"
    }
   ],
   "source": [
    "os.listdir('/Users/sdale/repos/find_my_tie')"
   ]
  },
  {
   "cell_type": "code",
   "execution_count": null,
   "metadata": {},
   "outputs": [],
   "source": []
  },
  {
   "cell_type": "code",
   "execution_count": 33,
   "metadata": {},
   "outputs": [],
   "source": [
    "DB_PATH = '/Users/sdale/repos/findmytie_website/findmytie_backend/db.sqlite3' \n",
    "def get_table_names():\n",
    "    conn = sqlite3.connect(DB_PATH)\n",
    "    tables = conn.execute(\"SELECT name FROM sqlite_master WHERE type='table';\").fetchall()\n",
    "    conn.close()\n",
    "    return tables\n",
    "\n",
    "TABLE_NAMES = {\n",
    "    'listing': 'api_listing', \n",
    "    'search_query': 'api_searchquery',\n",
    "    'query_match': 'api_querymatch',\n",
    "}\n",
    "def get_data():\n",
    "    conn = sqlite3.connect(DB_PATH)\n",
    "    df_dict = {}\n",
    "    for table, table_key in TABLE_NAMES.items():\n",
    "        query = f\"SELECT * FROM {table_key}\"\n",
    "        df = pd.read_sql_query(query, conn)\n",
    "        df_dict[table] = df\n",
    "    conn.close()\n",
    "    return df_dict\n",
    "\n",
    "def put_data(df_dict: dict):\n",
    "    conn = sqlite3.connect(DB_PATH)\n",
    "    for table, df in df_dict.items():\n",
    "        table_key = TABLE_NAMES[table]\n",
    "        df.to_sql(table_key, conn, if_exists='replace', index=False)\n",
    "    conn.close()"
   ]
  },
  {
   "cell_type": "code",
   "execution_count": 34,
   "metadata": {},
   "outputs": [],
   "source": [
    "df_dict = get_data()"
   ]
  },
  {
   "cell_type": "code",
   "execution_count": 35,
   "metadata": {},
   "outputs": [],
   "source": [
    "# remove all matches\n",
    "put_data({'query_match': pd.DataFrame(columns=df_dict['query_match'].columns)})"
   ]
  },
  {
   "cell_type": "code",
   "execution_count": 36,
   "metadata": {},
   "outputs": [
    {
     "data": {
      "text/html": [
       "<div>\n",
       "<style scoped>\n",
       "    .dataframe tbody tr th:only-of-type {\n",
       "        vertical-align: middle;\n",
       "    }\n",
       "\n",
       "    .dataframe tbody tr th {\n",
       "        vertical-align: top;\n",
       "    }\n",
       "\n",
       "    .dataframe thead th {\n",
       "        text-align: right;\n",
       "    }\n",
       "</style>\n",
       "<table border=\"1\" class=\"dataframe\">\n",
       "  <thead>\n",
       "    <tr style=\"text-align: right;\">\n",
       "      <th></th>\n",
       "      <th>title</th>\n",
       "      <th>solid_color</th>\n",
       "      <th>color_description</th>\n",
       "      <th>colors</th>\n",
       "      <th>price</th>\n",
       "      <th>retailer_url</th>\n",
       "      <th>retailer_image_url</th>\n",
       "      <th>image</th>\n",
       "      <th>created_at</th>\n",
       "      <th>id</th>\n",
       "    </tr>\n",
       "  </thead>\n",
       "  <tbody>\n",
       "    <tr>\n",
       "      <th>0</th>\n",
       "      <td>RBOCOTT Solid Color Tie Formal Necktie for Men</td>\n",
       "      <td>1</td>\n",
       "      <td>Baby Blue</td>\n",
       "      <td>None</td>\n",
       "      <td>8.49</td>\n",
       "      <td>https://amzn.to/3OvN9ED</td>\n",
       "      <td>https://m.media-amazon.com/images/I/81Xijyo9gs...</td>\n",
       "      <td>images/81Xijyo9gsL._AC_SY879_.jpg</td>\n",
       "      <td>2024-11-30 15:00:42.352728</td>\n",
       "      <td>1</td>\n",
       "    </tr>\n",
       "    <tr>\n",
       "      <th>1</th>\n",
       "      <td>RBOCOTT Solid Color Tie Formal Necktie for Men</td>\n",
       "      <td>1</td>\n",
       "      <td>Black</td>\n",
       "      <td>None</td>\n",
       "      <td>7.19</td>\n",
       "      <td>https://amzn.to/3OF2dzv</td>\n",
       "      <td>https://m.media-amazon.com/images/I/81onvueUmZ...</td>\n",
       "      <td>images/81onvueUmZL._AC_SY879_.jpg</td>\n",
       "      <td>2024-11-30 15:00:42.352728</td>\n",
       "      <td>2</td>\n",
       "    </tr>\n",
       "    <tr>\n",
       "      <th>2</th>\n",
       "      <td>RBOCOTT Solid Color Tie Formal Necktie for Men</td>\n",
       "      <td>1</td>\n",
       "      <td>Blush</td>\n",
       "      <td>None</td>\n",
       "      <td>8.49</td>\n",
       "      <td>https://amzn.to/4idgtgA</td>\n",
       "      <td>https://m.media-amazon.com/images/I/812pABcFwS...</td>\n",
       "      <td>images/812pABcFwSL._AC_SY879_.jpg</td>\n",
       "      <td>2024-11-30 15:00:42.352728</td>\n",
       "      <td>3</td>\n",
       "    </tr>\n",
       "    <tr>\n",
       "      <th>3</th>\n",
       "      <td>RBOCOTT Solid Color Tie Formal Necktie for Men</td>\n",
       "      <td>1</td>\n",
       "      <td>Bright Sage</td>\n",
       "      <td>None</td>\n",
       "      <td>7.99</td>\n",
       "      <td>https://amzn.to/3VfTrMn</td>\n",
       "      <td>https://m.media-amazon.com/images/I/81IheLda7o...</td>\n",
       "      <td>images/81IheLda7oL._AC_SY879_.jpg</td>\n",
       "      <td>2024-11-30 15:00:42.352728</td>\n",
       "      <td>4</td>\n",
       "    </tr>\n",
       "    <tr>\n",
       "      <th>4</th>\n",
       "      <td>RBOCOTT Solid Color Tie Formal Necktie for Men</td>\n",
       "      <td>1</td>\n",
       "      <td>Burgundy</td>\n",
       "      <td>None</td>\n",
       "      <td>7.99</td>\n",
       "      <td>https://amzn.to/3VgqWOA</td>\n",
       "      <td>https://m.media-amazon.com/images/I/81JrFY9rwz...</td>\n",
       "      <td>images/81JrFY9rwzL._AC_SY879_.jpg</td>\n",
       "      <td>2024-11-30 15:00:42.352728</td>\n",
       "      <td>5</td>\n",
       "    </tr>\n",
       "  </tbody>\n",
       "</table>\n",
       "</div>"
      ],
      "text/plain": [
       "                                            title  solid_color  \\\n",
       "0  RBOCOTT Solid Color Tie Formal Necktie for Men            1   \n",
       "1  RBOCOTT Solid Color Tie Formal Necktie for Men            1   \n",
       "2  RBOCOTT Solid Color Tie Formal Necktie for Men            1   \n",
       "3  RBOCOTT Solid Color Tie Formal Necktie for Men            1   \n",
       "4  RBOCOTT Solid Color Tie Formal Necktie for Men            1   \n",
       "\n",
       "  color_description colors  price             retailer_url  \\\n",
       "0         Baby Blue   None   8.49  https://amzn.to/3OvN9ED   \n",
       "1             Black   None   7.19  https://amzn.to/3OF2dzv   \n",
       "2             Blush   None   8.49  https://amzn.to/4idgtgA   \n",
       "3       Bright Sage   None   7.99  https://amzn.to/3VfTrMn   \n",
       "4          Burgundy   None   7.99  https://amzn.to/3VgqWOA   \n",
       "\n",
       "                                  retailer_image_url  \\\n",
       "0  https://m.media-amazon.com/images/I/81Xijyo9gs...   \n",
       "1  https://m.media-amazon.com/images/I/81onvueUmZ...   \n",
       "2  https://m.media-amazon.com/images/I/812pABcFwS...   \n",
       "3  https://m.media-amazon.com/images/I/81IheLda7o...   \n",
       "4  https://m.media-amazon.com/images/I/81JrFY9rwz...   \n",
       "\n",
       "                               image                  created_at  id  \n",
       "0  images/81Xijyo9gsL._AC_SY879_.jpg  2024-11-30 15:00:42.352728   1  \n",
       "1  images/81onvueUmZL._AC_SY879_.jpg  2024-11-30 15:00:42.352728   2  \n",
       "2  images/812pABcFwSL._AC_SY879_.jpg  2024-11-30 15:00:42.352728   3  \n",
       "3  images/81IheLda7oL._AC_SY879_.jpg  2024-11-30 15:00:42.352728   4  \n",
       "4  images/81JrFY9rwzL._AC_SY879_.jpg  2024-11-30 15:00:42.352728   5  "
      ]
     },
     "execution_count": 36,
     "metadata": {},
     "output_type": "execute_result"
    }
   ],
   "source": [
    "df_dict['listing'].head()"
   ]
  },
  {
   "cell_type": "code",
   "execution_count": 37,
   "metadata": {},
   "outputs": [],
   "source": [
    "ml_df = pd.read_csv('manual_listings.csv')"
   ]
  },
  {
   "cell_type": "code",
   "execution_count": 38,
   "metadata": {},
   "outputs": [
    {
     "data": {
      "text/html": [
       "<div>\n",
       "<style scoped>\n",
       "    .dataframe tbody tr th:only-of-type {\n",
       "        vertical-align: middle;\n",
       "    }\n",
       "\n",
       "    .dataframe tbody tr th {\n",
       "        vertical-align: top;\n",
       "    }\n",
       "\n",
       "    .dataframe thead th {\n",
       "        text-align: right;\n",
       "    }\n",
       "</style>\n",
       "<table border=\"1\" class=\"dataframe\">\n",
       "  <thead>\n",
       "    <tr style=\"text-align: right;\">\n",
       "      <th></th>\n",
       "      <th>title</th>\n",
       "      <th>solid_color</th>\n",
       "      <th>color_description</th>\n",
       "      <th>colors</th>\n",
       "      <th>price</th>\n",
       "      <th>retailer_url</th>\n",
       "      <th>retailer_image_url</th>\n",
       "      <th>internal_image_path</th>\n",
       "    </tr>\n",
       "  </thead>\n",
       "  <tbody>\n",
       "    <tr>\n",
       "      <th>0</th>\n",
       "      <td>RBOCOTT Solid Color Tie Formal Necktie for Men</td>\n",
       "      <td>True</td>\n",
       "      <td>Baby Blue</td>\n",
       "      <td>NaN</td>\n",
       "      <td>8.49</td>\n",
       "      <td>https://amzn.to/3OvN9ED</td>\n",
       "      <td>https://m.media-amazon.com/images/I/81Xijyo9gs...</td>\n",
       "      <td>media/images/81Xijyo9gsL._AC_SY879_.jpg</td>\n",
       "    </tr>\n",
       "    <tr>\n",
       "      <th>1</th>\n",
       "      <td>RBOCOTT Solid Color Tie Formal Necktie for Men</td>\n",
       "      <td>True</td>\n",
       "      <td>Black</td>\n",
       "      <td>NaN</td>\n",
       "      <td>7.19</td>\n",
       "      <td>https://amzn.to/3OF2dzv</td>\n",
       "      <td>https://m.media-amazon.com/images/I/81onvueUmZ...</td>\n",
       "      <td>media/images/81onvueUmZL._AC_SY879_.jpg</td>\n",
       "    </tr>\n",
       "    <tr>\n",
       "      <th>2</th>\n",
       "      <td>RBOCOTT Solid Color Tie Formal Necktie for Men</td>\n",
       "      <td>True</td>\n",
       "      <td>Blush</td>\n",
       "      <td>NaN</td>\n",
       "      <td>8.49</td>\n",
       "      <td>https://amzn.to/4idgtgA</td>\n",
       "      <td>https://m.media-amazon.com/images/I/812pABcFwS...</td>\n",
       "      <td>media/images/812pABcFwSL._AC_SY879_.jpg</td>\n",
       "    </tr>\n",
       "    <tr>\n",
       "      <th>3</th>\n",
       "      <td>RBOCOTT Solid Color Tie Formal Necktie for Men</td>\n",
       "      <td>True</td>\n",
       "      <td>Bright Sage</td>\n",
       "      <td>NaN</td>\n",
       "      <td>7.99</td>\n",
       "      <td>https://amzn.to/3VfTrMn</td>\n",
       "      <td>https://m.media-amazon.com/images/I/81IheLda7o...</td>\n",
       "      <td>media/images/81IheLda7oL._AC_SY879_.jpg</td>\n",
       "    </tr>\n",
       "    <tr>\n",
       "      <th>4</th>\n",
       "      <td>RBOCOTT Solid Color Tie Formal Necktie for Men</td>\n",
       "      <td>True</td>\n",
       "      <td>Burgundy</td>\n",
       "      <td>NaN</td>\n",
       "      <td>7.99</td>\n",
       "      <td>https://amzn.to/3VgqWOA</td>\n",
       "      <td>https://m.media-amazon.com/images/I/81JrFY9rwz...</td>\n",
       "      <td>media/images/81JrFY9rwzL._AC_SY879_.jpg</td>\n",
       "    </tr>\n",
       "  </tbody>\n",
       "</table>\n",
       "</div>"
      ],
      "text/plain": [
       "                                            title  solid_color  \\\n",
       "0  RBOCOTT Solid Color Tie Formal Necktie for Men         True   \n",
       "1  RBOCOTT Solid Color Tie Formal Necktie for Men         True   \n",
       "2  RBOCOTT Solid Color Tie Formal Necktie for Men         True   \n",
       "3  RBOCOTT Solid Color Tie Formal Necktie for Men         True   \n",
       "4  RBOCOTT Solid Color Tie Formal Necktie for Men         True   \n",
       "\n",
       "  color_description  colors  price             retailer_url  \\\n",
       "0         Baby Blue     NaN   8.49  https://amzn.to/3OvN9ED   \n",
       "1             Black     NaN   7.19  https://amzn.to/3OF2dzv   \n",
       "2             Blush     NaN   8.49  https://amzn.to/4idgtgA   \n",
       "3       Bright Sage     NaN   7.99  https://amzn.to/3VfTrMn   \n",
       "4          Burgundy     NaN   7.99  https://amzn.to/3VgqWOA   \n",
       "\n",
       "                                  retailer_image_url  \\\n",
       "0  https://m.media-amazon.com/images/I/81Xijyo9gs...   \n",
       "1  https://m.media-amazon.com/images/I/81onvueUmZ...   \n",
       "2  https://m.media-amazon.com/images/I/812pABcFwS...   \n",
       "3  https://m.media-amazon.com/images/I/81IheLda7o...   \n",
       "4  https://m.media-amazon.com/images/I/81JrFY9rwz...   \n",
       "\n",
       "                       internal_image_path  \n",
       "0  media/images/81Xijyo9gsL._AC_SY879_.jpg  \n",
       "1  media/images/81onvueUmZL._AC_SY879_.jpg  \n",
       "2  media/images/812pABcFwSL._AC_SY879_.jpg  \n",
       "3  media/images/81IheLda7oL._AC_SY879_.jpg  \n",
       "4  media/images/81JrFY9rwzL._AC_SY879_.jpg  "
      ]
     },
     "execution_count": 38,
     "metadata": {},
     "output_type": "execute_result"
    }
   ],
   "source": [
    "ml_df.head()"
   ]
  },
  {
   "cell_type": "code",
   "execution_count": 39,
   "metadata": {},
   "outputs": [
    {
     "name": "stdout",
     "output_type": "stream",
     "text": [
      "['color_description', 'colors', 'internal_image_path', 'price', 'retailer_image_url', 'retailer_url', 'solid_color', 'title']\n",
      "['color_description', 'colors', 'created_at', 'id', 'image', 'price', 'retailer_image_url', 'retailer_url', 'solid_color', 'title']\n"
     ]
    }
   ],
   "source": [
    "print(sorted(ml_df.columns))\n",
    "print(sorted(df_dict['listing'].columns))"
   ]
  },
  {
   "cell_type": "code",
   "execution_count": 40,
   "metadata": {},
   "outputs": [],
   "source": [
    "ml_df['image'] = ml_df['internal_image_path'].apply(lambda x: x.replace('media/', ''))\n",
    "ml_df.drop(columns=['internal_image_path'], inplace=True)\n",
    "ml_df['created_at'] = datetime.datetime.now()\n",
    "ml_df['id'] = ml_df.index + 1\n",
    "ml_df['colors'] = ''"
   ]
  },
  {
   "cell_type": "code",
   "execution_count": 44,
   "metadata": {},
   "outputs": [
    {
     "data": {
      "text/plain": [
       "datetime.datetime(2024, 11, 30, 16, 18, 53, 688575)"
      ]
     },
     "execution_count": 44,
     "metadata": {},
     "output_type": "execute_result"
    }
   ],
   "source": [
    "datetime.datetime.now()"
   ]
  },
  {
   "cell_type": "code",
   "execution_count": 42,
   "metadata": {},
   "outputs": [
    {
     "name": "stdout",
     "output_type": "stream",
     "text": [
      "['color_description', 'colors', 'created_at', 'id', 'image', 'price', 'retailer_image_url', 'retailer_url', 'solid_color', 'title']\n",
      "['color_description', 'colors', 'created_at', 'id', 'image', 'price', 'retailer_image_url', 'retailer_url', 'solid_color', 'title']\n"
     ]
    }
   ],
   "source": [
    "print(sorted(ml_df.columns))\n",
    "print(sorted(df_dict['listing'].columns))"
   ]
  },
  {
   "cell_type": "code",
   "execution_count": 43,
   "metadata": {},
   "outputs": [],
   "source": [
    "put_data({'listing': ml_df})"
   ]
  },
  {
   "cell_type": "code",
   "execution_count": null,
   "metadata": {},
   "outputs": [],
   "source": [
    "dt = df_dict['query_match'].iloc[0]['created_at']\n",
    "print(dt)"
   ]
  },
  {
   "cell_type": "code",
   "execution_count": null,
   "metadata": {},
   "outputs": [],
   "source": [
    "# parse datetime for date and time\n",
    "dt_obj = datetime.datetime.strptime(dt, '%Y-%m-%d %H:%M:%S.%f')\n",
    "print(dt_obj)\n",
    "print(type(dt_obj))\n",
    "print(type(dt))\n",
    "print(dt_obj.date())"
   ]
  },
  {
   "cell_type": "code",
   "execution_count": null,
   "metadata": {},
   "outputs": [],
   "source": [
    "# get yesterday's date\n",
    "yesterday = datetime.datetime.now() - datetime.timedelta(days=1)\n",
    "print(f\"Yesterday: {yesterday}\")"
   ]
  },
  {
   "cell_type": "code",
   "execution_count": null,
   "metadata": {},
   "outputs": [],
   "source": [
    "# remove rows that are older than yesterday\n",
    "for table in ('query_match', 'search_query'):\n",
    "    df = df_dict[table]\n",
    "    print(f\"{table} before: {len(df)}\")\n",
    "    for i, row in df.iterrows():\n",
    "        dt = row['created_at']\n",
    "        dt_obj = datetime.datetime.strptime(dt, '%Y-%m-%d %H:%M:%S.%f')\n",
    "        print(f\"\\t{dt_obj.date()} - {dt_obj.strftime(\"%H:%M:%S\")} - {dt_obj.date() < yesterday.date()}\")\n",
    "        if dt_obj.date() < yesterday.date():\n",
    "            df.drop(i, inplace=True)\n",
    "    print(f\"{table} after: {len(df)}\")"
   ]
  },
  {
   "cell_type": "code",
   "execution_count": null,
   "metadata": {},
   "outputs": [],
   "source": [
    "# check for dangling references, remove them\n",
    "dangling_query_matches = []\n",
    "search_query_ids = df_dict['search_query']['id'].values\n",
    "for i, row in df_dict['query_match'].iterrows():\n",
    "    query_id = row['search_query_id']\n",
    "    if query_id not in search_query_ids:\n",
    "        dangling_query_matches.append(i)\n",
    "print(f\"found {len(dangling_query_matches)} dangling query matches\")\n",
    "df_dict['query_match'].drop(dangling_query_matches, inplace=True)"
   ]
  },
  {
   "cell_type": "code",
   "execution_count": null,
   "metadata": {},
   "outputs": [],
   "source": []
  },
  {
   "cell_type": "code",
   "execution_count": null,
   "metadata": {},
   "outputs": [],
   "source": [
    "# Close the connection\n",
    "conn.close()"
   ]
  }
 ],
 "metadata": {
  "kernelspec": {
   "display_name": "venv",
   "language": "python",
   "name": "python3"
  },
  "language_info": {
   "codemirror_mode": {
    "name": "ipython",
    "version": 3
   },
   "file_extension": ".py",
   "mimetype": "text/x-python",
   "name": "python",
   "nbconvert_exporter": "python",
   "pygments_lexer": "ipython3",
   "version": "3.12.4"
  }
 },
 "nbformat": 4,
 "nbformat_minor": 2
}
